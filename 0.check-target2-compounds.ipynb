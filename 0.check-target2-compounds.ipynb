{
 "cells": [
  {
   "cell_type": "code",
   "execution_count": 1,
   "metadata": {},
   "outputs": [],
   "source": [
    "import pandas as pd"
   ]
  },
  {
   "cell_type": "markdown",
   "metadata": {},
   "source": [
    "### Check the number of unique compounds in each Target-2 plate"
   ]
  },
  {
   "cell_type": "markdown",
   "metadata": {},
   "source": [
    "Extract Target2 plates and compounds from all sources"
   ]
  },
  {
   "cell_type": "code",
   "execution_count": 2,
   "metadata": {},
   "outputs": [],
   "source": [
    "well_df = pd.read_csv('datasets/metadata/well.csv.gz')\n",
    "plate_df = pd.read_csv('datasets/metadata/plate.csv.gz').drop(columns=\"Metadata_Source\", axis=1)"
   ]
  },
  {
   "cell_type": "code",
   "execution_count": 3,
   "metadata": {},
   "outputs": [],
   "source": [
    "merged_df = plate_df.query('Metadata_PlateType==\"TARGET2\"').merge(\n",
    "    well_df, on=\"Metadata_Plate\", how=\"inner\"\n",
    ").query(\"Metadata_Source!='source_9'\") # Filter out 1536 well plates"
   ]
  },
  {
   "cell_type": "markdown",
   "metadata": {},
   "source": [
    "How many Target-2 plates have n wells?"
   ]
  },
  {
   "cell_type": "code",
   "execution_count": 4,
   "metadata": {},
   "outputs": [
    {
     "data": {
      "text/html": [
       "<div>\n",
       "<style scoped>\n",
       "    .dataframe tbody tr th:only-of-type {\n",
       "        vertical-align: middle;\n",
       "    }\n",
       "\n",
       "    .dataframe tbody tr th {\n",
       "        vertical-align: top;\n",
       "    }\n",
       "\n",
       "    .dataframe thead th {\n",
       "        text-align: right;\n",
       "    }\n",
       "</style>\n",
       "<table border=\"1\" class=\"dataframe\">\n",
       "  <thead>\n",
       "    <tr style=\"text-align: right;\">\n",
       "      <th></th>\n",
       "      <th>n_wells</th>\n",
       "      <th>n_plates</th>\n",
       "    </tr>\n",
       "  </thead>\n",
       "  <tbody>\n",
       "    <tr>\n",
       "      <th>0</th>\n",
       "      <td>384</td>\n",
       "      <td>113</td>\n",
       "    </tr>\n",
       "    <tr>\n",
       "      <th>1</th>\n",
       "      <td>383</td>\n",
       "      <td>15</td>\n",
       "    </tr>\n",
       "    <tr>\n",
       "      <th>2</th>\n",
       "      <td>382</td>\n",
       "      <td>3</td>\n",
       "    </tr>\n",
       "    <tr>\n",
       "      <th>3</th>\n",
       "      <td>378</td>\n",
       "      <td>1</td>\n",
       "    </tr>\n",
       "  </tbody>\n",
       "</table>\n",
       "</div>"
      ],
      "text/plain": [
       "   n_wells  n_plates\n",
       "0      384       113\n",
       "1      383        15\n",
       "2      382         3\n",
       "3      378         1"
      ]
     },
     "execution_count": 4,
     "metadata": {},
     "output_type": "execute_result"
    }
   ],
   "source": [
    "merged_df.groupby(\n",
    "    [\"Metadata_Source\", \"Metadata_Plate\"]\n",
    ").Metadata_JCP2022.count().reset_index().Metadata_JCP2022.value_counts().reset_index().rename(\n",
    "    columns={\"index\": \"n_wells\", \"Metadata_JCP2022\": \"n_plates\"}\n",
    ")"
   ]
  },
  {
   "cell_type": "markdown",
   "metadata": {},
   "source": [
    "How many Target-2 plates have n unique compounds?"
   ]
  },
  {
   "cell_type": "code",
   "execution_count": 5,
   "metadata": {},
   "outputs": [
    {
     "data": {
      "text/html": [
       "<div>\n",
       "<style scoped>\n",
       "    .dataframe tbody tr th:only-of-type {\n",
       "        vertical-align: middle;\n",
       "    }\n",
       "\n",
       "    .dataframe tbody tr th {\n",
       "        vertical-align: top;\n",
       "    }\n",
       "\n",
       "    .dataframe thead th {\n",
       "        text-align: right;\n",
       "    }\n",
       "</style>\n",
       "<table border=\"1\" class=\"dataframe\">\n",
       "  <thead>\n",
       "    <tr style=\"text-align: right;\">\n",
       "      <th></th>\n",
       "      <th>n_compounds</th>\n",
       "      <th>n_plates</th>\n",
       "    </tr>\n",
       "  </thead>\n",
       "  <tbody>\n",
       "    <tr>\n",
       "      <th>0</th>\n",
       "      <td>302</td>\n",
       "      <td>96</td>\n",
       "    </tr>\n",
       "    <tr>\n",
       "      <th>1</th>\n",
       "      <td>301</td>\n",
       "      <td>19</td>\n",
       "    </tr>\n",
       "    <tr>\n",
       "      <th>2</th>\n",
       "      <td>300</td>\n",
       "      <td>11</td>\n",
       "    </tr>\n",
       "    <tr>\n",
       "      <th>3</th>\n",
       "      <td>299</td>\n",
       "      <td>3</td>\n",
       "    </tr>\n",
       "    <tr>\n",
       "      <th>4</th>\n",
       "      <td>287</td>\n",
       "      <td>2</td>\n",
       "    </tr>\n",
       "    <tr>\n",
       "      <th>5</th>\n",
       "      <td>298</td>\n",
       "      <td>1</td>\n",
       "    </tr>\n",
       "  </tbody>\n",
       "</table>\n",
       "</div>"
      ],
      "text/plain": [
       "   n_compounds  n_plates\n",
       "0          302        96\n",
       "1          301        19\n",
       "2          300        11\n",
       "3          299         3\n",
       "4          287         2\n",
       "5          298         1"
      ]
     },
     "execution_count": 5,
     "metadata": {},
     "output_type": "execute_result"
    }
   ],
   "source": [
    "merged_df.groupby(\n",
    "    [\"Metadata_Source\", \"Metadata_Plate\"]\n",
    ").Metadata_JCP2022.nunique().reset_index().Metadata_JCP2022.value_counts().reset_index().rename(\n",
    "    columns={\"index\": \"n_compounds\", \"Metadata_JCP2022\": \"n_plates\"}\n",
    ")"
   ]
  },
  {
   "cell_type": "markdown",
   "metadata": {},
   "source": [
    "How many source 4 Target-2 plates have n unique compounds?"
   ]
  },
  {
   "cell_type": "code",
   "execution_count": 6,
   "metadata": {},
   "outputs": [
    {
     "data": {
      "text/html": [
       "<div>\n",
       "<style scoped>\n",
       "    .dataframe tbody tr th:only-of-type {\n",
       "        vertical-align: middle;\n",
       "    }\n",
       "\n",
       "    .dataframe tbody tr th {\n",
       "        vertical-align: top;\n",
       "    }\n",
       "\n",
       "    .dataframe thead th {\n",
       "        text-align: right;\n",
       "    }\n",
       "</style>\n",
       "<table border=\"1\" class=\"dataframe\">\n",
       "  <thead>\n",
       "    <tr style=\"text-align: right;\">\n",
       "      <th></th>\n",
       "      <th>n_compounds</th>\n",
       "      <th>n_plates</th>\n",
       "    </tr>\n",
       "  </thead>\n",
       "  <tbody>\n",
       "    <tr>\n",
       "      <th>0</th>\n",
       "      <td>302</td>\n",
       "      <td>17</td>\n",
       "    </tr>\n",
       "    <tr>\n",
       "      <th>1</th>\n",
       "      <td>301</td>\n",
       "      <td>5</td>\n",
       "    </tr>\n",
       "  </tbody>\n",
       "</table>\n",
       "</div>"
      ],
      "text/plain": [
       "   n_compounds  n_plates\n",
       "0          302        17\n",
       "1          301         5"
      ]
     },
     "execution_count": 6,
     "metadata": {},
     "output_type": "execute_result"
    }
   ],
   "source": [
    "merged_df.query(\"Metadata_Source=='source_4'\").groupby(\n",
    "    [\"Metadata_Source\", \"Metadata_Plate\"]\n",
    ").Metadata_JCP2022.nunique().reset_index().Metadata_JCP2022.value_counts().reset_index().rename(\n",
    "    columns={\"index\": \"n_compounds\", \"Metadata_JCP2022\": \"n_plates\"}\n",
    ")"
   ]
  },
  {
   "cell_type": "markdown",
   "metadata": {},
   "source": [
    "List Target-2 plates in `source_4`"
   ]
  },
  {
   "cell_type": "code",
   "execution_count": 7,
   "metadata": {},
   "outputs": [
    {
     "data": {
      "text/plain": [
       "array(['BR00121438', 'BR00121439', 'BR00121436', 'BR00121425',\n",
       "       'BR00121437', 'BR00121430', 'BR00121429', 'BR00121424',\n",
       "       'BR00121428', 'BR00121427', 'BR00121423', 'BR00121426',\n",
       "       'BR00126113', 'BR00126114', 'BR00126115', 'BR00126116',\n",
       "       'BR00126117', 'BR00127145', 'BR00127146', 'BR00127147',\n",
       "       'BR00127148', 'BR00127149'], dtype=object)"
      ]
     },
     "execution_count": 7,
     "metadata": {},
     "output_type": "execute_result"
    }
   ],
   "source": [
    "merged_df.query('Metadata_Source==\"source_4\"').Metadata_Plate.unique()"
   ]
  },
  {
   "cell_type": "markdown",
   "metadata": {},
   "source": [
    "### Map to `broad_sample` names"
   ]
  },
  {
   "cell_type": "markdown",
   "metadata": {},
   "source": [
    "Retrieve the Target-2 platemap"
   ]
  },
  {
   "cell_type": "code",
   "execution_count": 8,
   "metadata": {},
   "outputs": [],
   "source": [
    "target_2_platemap = pd.read_csv(\n",
    "    \"JUMP-Target/JUMP-Target-2_compound_platemap.tsv\",\n",
    "    sep=\"\\t\",\n",
    "    usecols=[\"well_position\", \"broad_sample\"],\n",
    ").rename(\n",
    "    columns={\"well_position\": \"Metadata_Well\", \"broad_sample\": \"Metadata_broad_sample\"}\n",
    ")"
   ]
  },
  {
   "cell_type": "markdown",
   "metadata": {},
   "source": [
    "Retrieve a single Target-2 plate from `source_4` (`BR0012143`)"
   ]
  },
  {
   "cell_type": "code",
   "execution_count": 9,
   "metadata": {},
   "outputs": [],
   "source": [
    "jump_source_4_target2_platemap = merged_df.query('Metadata_Plate==\"BR00121438\"')"
   ]
  },
  {
   "cell_type": "code",
   "execution_count": 10,
   "metadata": {},
   "outputs": [],
   "source": [
    "merged_platemap_df = jump_source_4_target2_platemap.merge(\n",
    "    target_2_platemap, on=\"Metadata_Well\", how=\"inner\"\n",
    ")"
   ]
  },
  {
   "cell_type": "code",
   "execution_count": 11,
   "metadata": {},
   "outputs": [],
   "source": [
    "### Add other metadata from JUMP and Target-2"
   ]
  },
  {
   "cell_type": "markdown",
   "metadata": {},
   "source": [
    "Read compound metadata"
   ]
  },
  {
   "cell_type": "code",
   "execution_count": 12,
   "metadata": {},
   "outputs": [],
   "source": [
    "compound_metadata_df = pd.read_csv(\n",
    "    'datasets/metadata/compound.csv.gz'\n",
    ").rename(columns={\"Metadata_InChIKey\": \"JUMP_InChIKey\", \"Metadata_InChI\": \"JUMP_InChI\"})"
   ]
  },
  {
   "cell_type": "code",
   "execution_count": 13,
   "metadata": {},
   "outputs": [],
   "source": [
    "target_2_metadata = pd.read_csv(\n",
    "    \"JUMP-Target/JUMP-Target-2_compound_metadata.tsv\",\n",
    "    sep=\"\\t\",\n",
    "    usecols=[\"broad_sample\", \"InChIKey\", \"pert_iname\", \"pubchem_cid\", \"smiles\"],\n",
    ").rename(\n",
    "    columns={\n",
    "        \"broad_sample\": \"Metadata_broad_sample\",\n",
    "        \"InChIKey\": \"Target2_InChIKey\",\n",
    "        \"pert_iname\": \"Target2_pert_iname\",\n",
    "        \"pubchem_cid\": \"Target2_pubchem_cid\",\n",
    "        \"smiles\": \"Target2_smiles\",\n",
    "    }\n",
    ")"
   ]
  },
  {
   "cell_type": "markdown",
   "metadata": {},
   "source": [
    "Merge data frames"
   ]
  },
  {
   "cell_type": "code",
   "execution_count": 14,
   "metadata": {},
   "outputs": [],
   "source": [
    "df = (\n",
    "    merged_platemap_df.merge(compound_metadata_df, on=\"Metadata_JCP2022\", how=\"inner\")\n",
    "    .merge(target_2_metadata, on=\"Metadata_broad_sample\", how=\"inner\")\n",
    ")"
   ]
  },
  {
   "cell_type": "code",
   "execution_count": 15,
   "metadata": {},
   "outputs": [
    {
     "data": {
      "text/html": [
       "<div>\n",
       "<style scoped>\n",
       "    .dataframe tbody tr th:only-of-type {\n",
       "        vertical-align: middle;\n",
       "    }\n",
       "\n",
       "    .dataframe tbody tr th {\n",
       "        vertical-align: top;\n",
       "    }\n",
       "\n",
       "    .dataframe thead th {\n",
       "        text-align: right;\n",
       "    }\n",
       "</style>\n",
       "<table border=\"1\" class=\"dataframe\">\n",
       "  <thead>\n",
       "    <tr style=\"text-align: right;\">\n",
       "      <th></th>\n",
       "      <th>Metadata_Batch</th>\n",
       "      <th>Metadata_Plate</th>\n",
       "      <th>Metadata_PlateType</th>\n",
       "      <th>Metadata_Source</th>\n",
       "      <th>Metadata_Well</th>\n",
       "      <th>Metadata_JCP2022</th>\n",
       "      <th>Metadata_broad_sample</th>\n",
       "      <th>JUMP_InChIKey</th>\n",
       "      <th>JUMP_InChI</th>\n",
       "      <th>Target2_InChIKey</th>\n",
       "      <th>Target2_pert_iname</th>\n",
       "      <th>Target2_pubchem_cid</th>\n",
       "      <th>Target2_smiles</th>\n",
       "    </tr>\n",
       "  </thead>\n",
       "  <tbody>\n",
       "    <tr>\n",
       "      <th>0</th>\n",
       "      <td>2021_04_26_Batch1</td>\n",
       "      <td>BR00121438</td>\n",
       "      <td>TARGET2</td>\n",
       "      <td>source_4</td>\n",
       "      <td>A01</td>\n",
       "      <td>JCP2022_043547</td>\n",
       "      <td>BRD-K09338665-001-07-1</td>\n",
       "      <td>KBPLFHHGFOOTCA-UHFFFAOYSA-N</td>\n",
       "      <td>InChI=1S/C8H18O/c1-2-3-4-5-6-7-8-9/h9H,2-8H2,1H3</td>\n",
       "      <td>KBPLFHHGFOOTCA-UHFFFAOYSA-N</td>\n",
       "      <td>1-octanol</td>\n",
       "      <td>957.0</td>\n",
       "      <td>CCCCCCCCO</td>\n",
       "    </tr>\n",
       "    <tr>\n",
       "      <th>1</th>\n",
       "      <td>2021_04_26_Batch1</td>\n",
       "      <td>BR00121438</td>\n",
       "      <td>TARGET2</td>\n",
       "      <td>source_4</td>\n",
       "      <td>A02</td>\n",
       "      <td>JCP2022_050797</td>\n",
       "      <td>BRD-K48278478-001-01-2</td>\n",
       "      <td>LOUPRKONTZGTKE-UHFFFAOYSA-N</td>\n",
       "      <td>InChI=1S/C20H24N2O2/c1-3-13-12-22-9-7-14(13)10...</td>\n",
       "      <td>LOUPRKONTZGTKE-AFHBHXEDSA-N</td>\n",
       "      <td>quinine</td>\n",
       "      <td>94175.0</td>\n",
       "      <td>COc1ccc2nccc([C@@H](O)[C@H]3C[C@@H]4CC[N@]3C[C...</td>\n",
       "    </tr>\n",
       "    <tr>\n",
       "      <th>2</th>\n",
       "      <td>2021_04_26_Batch1</td>\n",
       "      <td>BR00121438</td>\n",
       "      <td>TARGET2</td>\n",
       "      <td>source_4</td>\n",
       "      <td>H12</td>\n",
       "      <td>JCP2022_050797</td>\n",
       "      <td>BRD-K59632282-052-03-1</td>\n",
       "      <td>LOUPRKONTZGTKE-UHFFFAOYSA-N</td>\n",
       "      <td>InChI=1S/C20H24N2O2/c1-3-13-12-22-9-7-14(13)10...</td>\n",
       "      <td>LOUPRKONTZGTKE-LHHVKLHASA-N</td>\n",
       "      <td>quinidine</td>\n",
       "      <td>441074.0</td>\n",
       "      <td>COc1ccc2nccc([C@H](O)[C@H]3C[C@@H]4CC[N@]3C[C@...</td>\n",
       "    </tr>\n",
       "    <tr>\n",
       "      <th>3</th>\n",
       "      <td>2021_04_26_Batch1</td>\n",
       "      <td>BR00121438</td>\n",
       "      <td>TARGET2</td>\n",
       "      <td>source_4</td>\n",
       "      <td>A03</td>\n",
       "      <td>JCP2022_050997</td>\n",
       "      <td>BRD-A85242401-001-12-3</td>\n",
       "      <td>LPYXWGMUVRGUOY-UHFFFAOYSA-N</td>\n",
       "      <td>InChI=1S/C6H8O6/c7-1-2(8)5-3(9)4(10)6(11)12-5/...</td>\n",
       "      <td>KRGQEOSDQHTZMX-IGCYCDGOSA-N</td>\n",
       "      <td>ascorbic-acid</td>\n",
       "      <td>9888239.0</td>\n",
       "      <td>OC[C@H](O)[C@H]1OC(=O)C(=O)C1O</td>\n",
       "    </tr>\n",
       "    <tr>\n",
       "      <th>4</th>\n",
       "      <td>2021_04_26_Batch1</td>\n",
       "      <td>BR00121438</td>\n",
       "      <td>TARGET2</td>\n",
       "      <td>source_4</td>\n",
       "      <td>A04</td>\n",
       "      <td>JCP2022_108326</td>\n",
       "      <td>BRD-K93632104-001-17-2</td>\n",
       "      <td>YGSDEFSMJLZEOE-UHFFFAOYSA-N</td>\n",
       "      <td>InChI=1S/C7H6O3/c8-6-4-2-1-3-5(6)7(9)10/h1-4,8...</td>\n",
       "      <td>YGSDEFSMJLZEOE-UHFFFAOYSA-N</td>\n",
       "      <td>salicylic-acid</td>\n",
       "      <td>118212070.0</td>\n",
       "      <td>OC(=O)c1ccccc1O</td>\n",
       "    </tr>\n",
       "  </tbody>\n",
       "</table>\n",
       "</div>"
      ],
      "text/plain": [
       "      Metadata_Batch Metadata_Plate Metadata_PlateType Metadata_Source  \\\n",
       "0  2021_04_26_Batch1     BR00121438            TARGET2        source_4   \n",
       "1  2021_04_26_Batch1     BR00121438            TARGET2        source_4   \n",
       "2  2021_04_26_Batch1     BR00121438            TARGET2        source_4   \n",
       "3  2021_04_26_Batch1     BR00121438            TARGET2        source_4   \n",
       "4  2021_04_26_Batch1     BR00121438            TARGET2        source_4   \n",
       "\n",
       "  Metadata_Well Metadata_JCP2022   Metadata_broad_sample  \\\n",
       "0           A01   JCP2022_043547  BRD-K09338665-001-07-1   \n",
       "1           A02   JCP2022_050797  BRD-K48278478-001-01-2   \n",
       "2           H12   JCP2022_050797  BRD-K59632282-052-03-1   \n",
       "3           A03   JCP2022_050997  BRD-A85242401-001-12-3   \n",
       "4           A04   JCP2022_108326  BRD-K93632104-001-17-2   \n",
       "\n",
       "                 JUMP_InChIKey  \\\n",
       "0  KBPLFHHGFOOTCA-UHFFFAOYSA-N   \n",
       "1  LOUPRKONTZGTKE-UHFFFAOYSA-N   \n",
       "2  LOUPRKONTZGTKE-UHFFFAOYSA-N   \n",
       "3  LPYXWGMUVRGUOY-UHFFFAOYSA-N   \n",
       "4  YGSDEFSMJLZEOE-UHFFFAOYSA-N   \n",
       "\n",
       "                                          JUMP_InChI  \\\n",
       "0   InChI=1S/C8H18O/c1-2-3-4-5-6-7-8-9/h9H,2-8H2,1H3   \n",
       "1  InChI=1S/C20H24N2O2/c1-3-13-12-22-9-7-14(13)10...   \n",
       "2  InChI=1S/C20H24N2O2/c1-3-13-12-22-9-7-14(13)10...   \n",
       "3  InChI=1S/C6H8O6/c7-1-2(8)5-3(9)4(10)6(11)12-5/...   \n",
       "4  InChI=1S/C7H6O3/c8-6-4-2-1-3-5(6)7(9)10/h1-4,8...   \n",
       "\n",
       "              Target2_InChIKey Target2_pert_iname  Target2_pubchem_cid  \\\n",
       "0  KBPLFHHGFOOTCA-UHFFFAOYSA-N          1-octanol                957.0   \n",
       "1  LOUPRKONTZGTKE-AFHBHXEDSA-N            quinine              94175.0   \n",
       "2  LOUPRKONTZGTKE-LHHVKLHASA-N          quinidine             441074.0   \n",
       "3  KRGQEOSDQHTZMX-IGCYCDGOSA-N      ascorbic-acid            9888239.0   \n",
       "4  YGSDEFSMJLZEOE-UHFFFAOYSA-N     salicylic-acid          118212070.0   \n",
       "\n",
       "                                      Target2_smiles  \n",
       "0                                          CCCCCCCCO  \n",
       "1  COc1ccc2nccc([C@@H](O)[C@H]3C[C@@H]4CC[N@]3C[C...  \n",
       "2  COc1ccc2nccc([C@H](O)[C@H]3C[C@@H]4CC[N@]3C[C@...  \n",
       "3                     OC[C@H](O)[C@H]1OC(=O)C(=O)C1O  \n",
       "4                                    OC(=O)c1ccccc1O  "
      ]
     },
     "execution_count": 15,
     "metadata": {},
     "output_type": "execute_result"
    }
   ],
   "source": [
    "df.head()"
   ]
  },
  {
   "cell_type": "markdown",
   "metadata": {},
   "source": [
    "Remove DMSO wells"
   ]
  },
  {
   "cell_type": "code",
   "execution_count": 16,
   "metadata": {},
   "outputs": [],
   "source": [
    "df = df.query(\"Metadata_JCP2022!='JCP2022_033924'\").sort_values(by=\"Metadata_Well\")"
   ]
  },
  {
   "cell_type": "markdown",
   "metadata": {},
   "source": [
    "Write to file"
   ]
  },
  {
   "cell_type": "code",
   "execution_count": 17,
   "metadata": {},
   "outputs": [],
   "source": [
    "df.to_csv('output/target-2-mapped.tsv', sep='\\t', index=False)"
   ]
  }
 ],
 "metadata": {
  "kernelspec": {
   "display_name": "check-target2",
   "language": "python",
   "name": "python3"
  },
  "language_info": {
   "codemirror_mode": {
    "name": "ipython",
    "version": 3
   },
   "file_extension": ".py",
   "mimetype": "text/x-python",
   "name": "python",
   "nbconvert_exporter": "python",
   "pygments_lexer": "ipython3",
   "version": "3.10.6"
  },
  "orig_nbformat": 4
 },
 "nbformat": 4,
 "nbformat_minor": 2
}
